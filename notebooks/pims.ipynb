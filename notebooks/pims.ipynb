{
 "cells": [
  {
   "cell_type": "markdown",
   "id": "frequent-freight",
   "metadata": {},
   "source": [
    "Files conversion\n",
    "================"
   ]
  },
  {
   "cell_type": "markdown",
   "id": "running-radical",
   "metadata": {},
   "source": [
    "Imports"
   ]
  },
  {
   "cell_type": "code",
   "execution_count": 3,
   "id": "casual-rwanda",
   "metadata": {},
   "outputs": [],
   "source": [
    "import matplotlib.pyplot as plt\n",
    "import numpy as np"
   ]
  },
  {
   "cell_type": "code",
   "execution_count": 4,
   "id": "friendly-friend",
   "metadata": {},
   "outputs": [],
   "source": [
    "import pims\n",
    "from pims import *"
   ]
  },
  {
   "cell_type": "code",
   "execution_count": 5,
   "id": "particular-football",
   "metadata": {},
   "outputs": [],
   "source": [
    "import cv2\n",
    "import os"
   ]
  },
  {
   "cell_type": "code",
   "execution_count": 26,
   "id": "supreme-charge",
   "metadata": {
    "tags": []
   },
   "outputs": [
    {
     "data": {
      "text/plain": [
       "PosixPath('/home/ioan/Documents/microscope_video_conversion/notebooks')"
      ]
     },
     "execution_count": 26,
     "metadata": {},
     "output_type": "execute_result"
    }
   ],
   "source": [
    "from pathlib import *\n",
    "current_dir = Path.cwd()\n",
    "current_dir"
   ]
  },
  {
   "cell_type": "code",
   "execution_count": 27,
   "id": "thermal-puzzle",
   "metadata": {},
   "outputs": [],
   "source": [
    "#input_folder = Path(\"/\") / \"data\" / \"IOAN\" / \"INPUT\"\n",
    "#output_folder = Path(\"/\") / \"data\" / \"IOAN\" / \"OUTPUT\"\n",
    "input_folder = Path('/media/ioan/Elements/IOAN/PP/exp2/day5/odr-3_ife-2')\n",
    "output_folder = Path('/media/ioan/Elements/IOAN/PP_CONVERTED/exp2/day5/odr-3_ife-2')\n",
    "\n",
    "if(not output_folder.exists()):\n",
    "    output_folder.mkdir()"
   ]
  },
  {
   "cell_type": "code",
   "execution_count": 28,
   "id": "informed-display",
   "metadata": {},
   "outputs": [],
   "source": [
    "def convert(from_file: Path, to_file: Path, fps: int):\n",
    "    worm = pims.Bioformats(from_file, java_memory='1024m')\n",
    "    frame = worm[0]\n",
    "    height, width = frame.shape\n",
    "    video = cv2.VideoWriter(str(to_file.absolute()), cv2.VideoWriter_fourcc(*'mp4v'), fps, (width, height), False)    \n",
    "    for image in worm:\n",
    "        image = cv2.normalize(image, None, 0, 255, cv2.NORM_MINMAX, dtype=cv2.CV_8U)\n",
    "        video.write(image)\n",
    "    print(f\"{to_file} successfully converted!\")\n",
    "    return to_file"
   ]
  },
  {
   "cell_type": "markdown",
   "id": "canadian-working",
   "metadata": {},
   "source": [
    "Processing the directory tree with conversion\n",
    "============================================="
   ]
  },
  {
   "cell_type": "code",
   "execution_count": 29,
   "id": "identified-sentence",
   "metadata": {},
   "outputs": [],
   "source": [
    "def process(folder: Path, output: Path, skip_if_exists: bool, fps: int = 10):\n",
    "    print(folder)\n",
    "    output.mkdir(exist_ok=True)\n",
    "    for f in folder.iterdir():\n",
    "        if f.is_dir():\n",
    "            od: Path = output / f.name\n",
    "            od.mkdir(exist_ok=True)                        \n",
    "            process(f, od, skip_if_exists)\n",
    "        else:\n",
    "            if \"zvi\" in f.name:\n",
    "                to = output / (f.stem+'.mp4')\n",
    "                if to.exists() and skip_if_exists:\n",
    "                    print(f\"{str(f.absolute())} already exists, skipping...\")\n",
    "                else:                    \n",
    "                    print(f\"converting {f.absolute()} to {to}\")\n",
    "                    try:\n",
    "                        convert(f, to, fps)\n",
    "                    except:\n",
    "                        print(\"Exception occured!\")\n",
    "                        \n",
    "                        continue\n",
    "    return folder"
   ]
  },
  {
   "cell_type": "code",
   "execution_count": 30,
   "id": "occasional-hello",
   "metadata": {
    "tags": []
   },
   "outputs": [
    {
     "name": "stdout",
     "output_type": "stream",
     "text": [
      "/media/ioan/Elements/IOAN/PP/exp2/day5/odr-3_ife-2\n",
      "/media/ioan/Elements/IOAN/PP/exp2/day5/odr-3_ife-2/w1.zvi already exists, skipping...\n",
      "/media/ioan/Elements/IOAN/PP/exp2/day5/odr-3_ife-2/w10.zvi already exists, skipping...\n",
      "/media/ioan/Elements/IOAN/PP/exp2/day5/odr-3_ife-2/w11.zvi already exists, skipping...\n",
      "/media/ioan/Elements/IOAN/PP/exp2/day5/odr-3_ife-2/w12.zvi already exists, skipping...\n",
      "/media/ioan/Elements/IOAN/PP/exp2/day5/odr-3_ife-2/w13.zvi already exists, skipping...\n",
      "/media/ioan/Elements/IOAN/PP/exp2/day5/odr-3_ife-2/w14.zvi already exists, skipping...\n",
      "/media/ioan/Elements/IOAN/PP/exp2/day5/odr-3_ife-2/w15.zvi already exists, skipping...\n",
      "/media/ioan/Elements/IOAN/PP/exp2/day5/odr-3_ife-2/w16.zvi already exists, skipping...\n",
      "/media/ioan/Elements/IOAN/PP/exp2/day5/odr-3_ife-2/w17.zvi already exists, skipping...\n",
      "/media/ioan/Elements/IOAN/PP/exp2/day5/odr-3_ife-2/w2.zvi already exists, skipping...\n",
      "/media/ioan/Elements/IOAN/PP/exp2/day5/odr-3_ife-2/w3.zvi already exists, skipping...\n",
      "/media/ioan/Elements/IOAN/PP/exp2/day5/odr-3_ife-2/w4.zvi already exists, skipping...\n",
      "/media/ioan/Elements/IOAN/PP/exp2/day5/odr-3_ife-2/w5.zvi already exists, skipping...\n",
      "/media/ioan/Elements/IOAN/PP/exp2/day5/odr-3_ife-2/w8.zvi already exists, skipping...\n",
      "/media/ioan/Elements/IOAN/PP/exp2/day5/odr-3_ife-2/w9.zvi already exists, skipping...\n",
      "converting /media/ioan/Elements/IOAN/PP/exp2/day5/odr-3_ife-2/wt6.zvi to /media/ioan/Elements/IOAN/PP_CONVERTED/exp2/day5/odr-3_ife-2/wt6.mp4\n",
      "Exception occured!\n",
      "converting /media/ioan/Elements/IOAN/PP/exp2/day5/odr-3_ife-2/wt7.zvi to /media/ioan/Elements/IOAN/PP_CONVERTED/exp2/day5/odr-3_ife-2/wt7.mp4\n",
      "/media/ioan/Elements/IOAN/PP_CONVERTED/exp2/day5/odr-3_ife-2/wt7.mp4 successfully converted!\n",
      "All conversions finished!\n"
     ]
    }
   ],
   "source": [
    "process(input_folder, output_folder, True, 10)\n",
    "print(\"All conversions finished!\")"
   ]
  },
  {
   "cell_type": "code",
   "execution_count": null,
   "id": "federal-finding",
   "metadata": {},
   "outputs": [],
   "source": []
  },
  {
   "cell_type": "code",
   "execution_count": null,
   "id": "accompanied-providence",
   "metadata": {},
   "outputs": [],
   "source": []
  },
  {
   "cell_type": "code",
   "execution_count": null,
   "id": "overall-basement",
   "metadata": {},
   "outputs": [],
   "source": []
  },
  {
   "cell_type": "code",
   "execution_count": null,
   "id": "becoming-refrigerator",
   "metadata": {},
   "outputs": [],
   "source": []
  },
  {
   "cell_type": "code",
   "execution_count": null,
   "id": "disciplinary-principle",
   "metadata": {},
   "outputs": [],
   "source": []
  },
  {
   "cell_type": "code",
   "execution_count": null,
   "id": "compound-invalid",
   "metadata": {},
   "outputs": [],
   "source": []
  },
  {
   "cell_type": "code",
   "execution_count": null,
   "id": "minimal-forwarding",
   "metadata": {},
   "outputs": [],
   "source": []
  },
  {
   "cell_type": "code",
   "execution_count": null,
   "id": "working-bacteria",
   "metadata": {},
   "outputs": [],
   "source": []
  },
  {
   "cell_type": "code",
   "execution_count": null,
   "id": "frequent-brief",
   "metadata": {},
   "outputs": [],
   "source": []
  },
  {
   "cell_type": "code",
   "execution_count": null,
   "id": "portable-climb",
   "metadata": {},
   "outputs": [],
   "source": []
  },
  {
   "cell_type": "code",
   "execution_count": null,
   "id": "eligible-allen",
   "metadata": {},
   "outputs": [],
   "source": []
  }
 ],
 "metadata": {
  "kernelspec": {
   "display_name": "Python 3",
   "language": "python",
   "name": "python3"
  },
  "language_info": {
   "codemirror_mode": {
    "name": "ipython",
    "version": 3
   },
   "file_extension": ".py",
   "mimetype": "text/x-python",
   "name": "python",
   "nbconvert_exporter": "python",
   "pygments_lexer": "ipython3",
   "version": "3.8.8"
  }
 },
 "nbformat": 4,
 "nbformat_minor": 5
}
