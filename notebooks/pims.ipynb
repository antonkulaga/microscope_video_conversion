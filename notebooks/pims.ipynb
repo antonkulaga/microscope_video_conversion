{
 "cells": [
  {
   "cell_type": "markdown",
   "id": "aa05a2ac",
   "metadata": {},
   "source": [
    "Files conversion\n",
    "================"
   ]
  },
  {
   "cell_type": "markdown",
   "id": "29fa15d0",
   "metadata": {},
   "source": [
    "Imports"
   ]
  },
  {
   "cell_type": "code",
   "execution_count": 1,
   "id": "3d9658bd",
   "metadata": {},
   "outputs": [],
   "source": [
    "import matplotlib.pyplot as plt\n",
    "import numpy as np"
   ]
  },
  {
   "cell_type": "code",
   "execution_count": 2,
   "id": "8f60e69b",
   "metadata": {},
   "outputs": [],
   "source": [
    "import pims\n",
    "from pims import *"
   ]
  },
  {
   "cell_type": "code",
   "execution_count": 3,
   "id": "607b4e31",
   "metadata": {},
   "outputs": [],
   "source": [
    "import cv2\n",
    "import os"
   ]
  },
  {
   "cell_type": "code",
   "execution_count": 4,
   "id": "ca5db21f",
   "metadata": {
    "tags": []
   },
   "outputs": [
    {
     "data": {
      "text/plain": [
       "PosixPath('/data/sources/microscope_video_conversion/notebooks')"
      ]
     },
     "execution_count": 4,
     "metadata": {},
     "output_type": "execute_result"
    }
   ],
   "source": [
    "from pathlib import *\n",
    "current_dir = Path.cwd()\n",
    "current_dir"
   ]
  },
  {
   "cell_type": "code",
   "execution_count": 5,
   "id": "e3b26d7f",
   "metadata": {},
   "outputs": [],
   "source": [
    "input_folder = Path(\"/\") / \"data\" / \"IOAN\" / \"INPUT\"\n",
    "output_folder = Path(\"/\") / \"data\" / \"IOAN\" / \"OUTPUT\"\n",
    "##input_folder = Path('/media/ioan/Elements/IOAN/PP/exp2/day5/odr-3_ife-2')\n",
    "##output_folder = Path('/media/ioan/Elements/IOAN/PP_CONVERTED/exp2/day5/odr-3_ife-2')\n",
    "\n",
    "if(not output_folder.exists()):\n",
    "    output_folder.mkdir()"
   ]
  },
  {
   "cell_type": "code",
   "execution_count": 6,
   "id": "31f5ea47",
   "metadata": {},
   "outputs": [],
   "source": [
    "def convert(from_file: Path, to_file: Path, fps: int):\n",
    "    worm = pims.Bioformats(from_file, java_memory='1024m')\n",
    "    frame = worm[0]\n",
    "    height, width = frame.shape\n",
    "    video = cv2.VideoWriter(str(to_file.absolute()), cv2.VideoWriter_fourcc(*'mp4v'), fps, (width, height), False)    \n",
    "    for image in worm:\n",
    "        image = cv2.normalize(image, None, 0, 255, cv2.NORM_MINMAX, dtype=cv2.CV_8U)\n",
    "        video.write(image)\n",
    "    print(f\"{to_file} successfully converted!\")\n",
    "    return to_file"
   ]
  },
  {
   "cell_type": "markdown",
   "id": "83c5e249",
   "metadata": {},
   "source": [
    "Processing the directory tree with conversion\n",
    "============================================="
   ]
  },
  {
   "cell_type": "code",
   "execution_count": 9,
   "id": "d67f831c",
   "metadata": {},
   "outputs": [],
   "source": [
    "def process(folder: Path, output: Path, skip_if_exists: bool, fps: int = 10):\n",
    "    print(folder)\n",
    "    output.mkdir(exist_ok=True)\n",
    "    for f in folder.iterdir():\n",
    "        if f.is_dir():\n",
    "            od: Path = output / f.name\n",
    "            od.mkdir(exist_ok=True)                        \n",
    "            process(f, od, skip_if_exists)\n",
    "        else:\n",
    "            if \"zvi\" in f.name:\n",
    "                to = output / (f.stem+'.mp4')\n",
    "                if to.exists() and skip_if_exists:\n",
    "                    print(f\"{str(f.absolute())} already exists, skipping...\")\n",
    "                else:                    \n",
    "                    print(f\"converting {f.absolute()} to {to}\")\n",
    "                    #try:\n",
    "                    convert(f, to, fps)\n",
    "                    #except:\n",
    "                    #    print(\"Exception occured!\")                        \n",
    "                    #    continue\n",
    "    return folder"
   ]
  },
  {
   "cell_type": "code",
   "execution_count": 10,
   "id": "e95f0d79",
   "metadata": {
    "tags": []
   },
   "outputs": [
    {
     "name": "stdout",
     "output_type": "stream",
     "text": [
      "/data/IOAN/INPUT\n",
      "converting /data/IOAN/INPUT/w3.zvi to /data/IOAN/OUTPUT/w3.mp4\n"
     ]
    },
    {
     "ename": "java.io.IOException",
     "evalue": "java.io.IOException: block[ 0 ] already removed",
     "output_type": "error",
     "traceback": [
      "\u001b[0;31m---------------------------------------------------------------------------\u001b[0m",
      "\u001b[0;31mException\u001b[0m                                 Traceback (most recent call last)",
      "\u001b[0;32m/opt/micromamba/envs/microscope_video_conversion/lib/python3.8/site-packages/_jpype.cpython-38-x86_64-linux-gnu.so\u001b[0m in \u001b[0;36mloci.formats.ChannelSeparator.setId\u001b[0;34m()\u001b[0m\n",
      "\u001b[0;32m/opt/micromamba/envs/microscope_video_conversion/lib/python3.8/site-packages/_jpype.cpython-38-x86_64-linux-gnu.so\u001b[0m in \u001b[0;36mloci.formats.ReaderWrapper.setId\u001b[0;34m()\u001b[0m\n",
      "\u001b[0;32m/opt/micromamba/envs/microscope_video_conversion/lib/python3.8/site-packages/_jpype.cpython-38-x86_64-linux-gnu.so\u001b[0m in \u001b[0;36mloci.formats.ChannelFiller.setId\u001b[0;34m()\u001b[0m\n",
      "\u001b[0;32m/opt/micromamba/envs/microscope_video_conversion/lib/python3.8/site-packages/_jpype.cpython-38-x86_64-linux-gnu.so\u001b[0m in \u001b[0;36mloci.formats.ReaderWrapper.setId\u001b[0;34m()\u001b[0m\n",
      "\u001b[0;32m/opt/micromamba/envs/microscope_video_conversion/lib/python3.8/site-packages/_jpype.cpython-38-x86_64-linux-gnu.so\u001b[0m in \u001b[0;36mloci.formats.ImageReader.setId\u001b[0;34m()\u001b[0m\n",
      "\u001b[0;32m/opt/micromamba/envs/microscope_video_conversion/lib/python3.8/site-packages/_jpype.cpython-38-x86_64-linux-gnu.so\u001b[0m in \u001b[0;36mloci.formats.FormatReader.setId\u001b[0;34m()\u001b[0m\n",
      "\u001b[0;32m/opt/micromamba/envs/microscope_video_conversion/lib/python3.8/site-packages/_jpype.cpython-38-x86_64-linux-gnu.so\u001b[0m in \u001b[0;36mloci.formats.in.ZeissZVIReader.initFile\u001b[0;34m()\u001b[0m\n",
      "\u001b[0;32m/opt/micromamba/envs/microscope_video_conversion/lib/python3.8/site-packages/_jpype.cpython-38-x86_64-linux-gnu.so\u001b[0m in \u001b[0;36mloci.formats.in.BaseZeissReader.initFileMain\u001b[0;34m()\u001b[0m\n",
      "\u001b[0;32m/opt/micromamba/envs/microscope_video_conversion/lib/python3.8/site-packages/_jpype.cpython-38-x86_64-linux-gnu.so\u001b[0m in \u001b[0;36mloci.formats.in.ZeissZVIReader.initVars\u001b[0;34m()\u001b[0m\n",
      "\u001b[0;32m/opt/micromamba/envs/microscope_video_conversion/lib/python3.8/site-packages/_jpype.cpython-38-x86_64-linux-gnu.so\u001b[0m in \u001b[0;36mloci.formats.in.ZeissZVIReader.initPOIService\u001b[0;34m()\u001b[0m\n",
      "\u001b[0;32m/opt/micromamba/envs/microscope_video_conversion/lib/python3.8/site-packages/_jpype.cpython-38-x86_64-linux-gnu.so\u001b[0m in \u001b[0;36mloci.formats.services.POIServiceImpl.initialize\u001b[0;34m()\u001b[0m\n",
      "\u001b[0;32m/opt/micromamba/envs/microscope_video_conversion/lib/python3.8/site-packages/_jpype.cpython-38-x86_64-linux-gnu.so\u001b[0m in \u001b[0;36mloci.formats.services.POIServiceImpl.initialize\u001b[0;34m()\u001b[0m\n",
      "\u001b[0;32m/opt/micromamba/envs/microscope_video_conversion/lib/python3.8/site-packages/_jpype.cpython-38-x86_64-linux-gnu.so\u001b[0m in \u001b[0;36mloci.poi.poifs.filesystem.POIFSFileSystem.<init>\u001b[0;34m()\u001b[0m\n",
      "\u001b[0;32m/opt/micromamba/envs/microscope_video_conversion/lib/python3.8/site-packages/_jpype.cpython-38-x86_64-linux-gnu.so\u001b[0m in \u001b[0;36mloci.poi.poifs.filesystem.POIFSFileSystem.processProperties\u001b[0;34m()\u001b[0m\n",
      "\u001b[0;32m/opt/micromamba/envs/microscope_video_conversion/lib/python3.8/site-packages/_jpype.cpython-38-x86_64-linux-gnu.so\u001b[0m in \u001b[0;36mloci.poi.poifs.filesystem.POIFSFileSystem.processProperties\u001b[0;34m()\u001b[0m\n",
      "\u001b[0;32m/opt/micromamba/envs/microscope_video_conversion/lib/python3.8/site-packages/_jpype.cpython-38-x86_64-linux-gnu.so\u001b[0m in \u001b[0;36mloci.poi.poifs.filesystem.POIFSFileSystem.processProperties\u001b[0;34m()\u001b[0m\n",
      "\u001b[0;32m/opt/micromamba/envs/microscope_video_conversion/lib/python3.8/site-packages/_jpype.cpython-38-x86_64-linux-gnu.so\u001b[0m in \u001b[0;36mloci.poi.poifs.storage.RawDataBlockList.fetchBlocks\u001b[0;34m()\u001b[0m\n",
      "\u001b[0;32m/opt/micromamba/envs/microscope_video_conversion/lib/python3.8/site-packages/_jpype.cpython-38-x86_64-linux-gnu.so\u001b[0m in \u001b[0;36mloci.poi.poifs.storage.BlockListImpl.fetchBlocks\u001b[0;34m()\u001b[0m\n",
      "\u001b[0;32m/opt/micromamba/envs/microscope_video_conversion/lib/python3.8/site-packages/_jpype.cpython-38-x86_64-linux-gnu.so\u001b[0m in \u001b[0;36mloci.poi.poifs.storage.BlockAllocationTableReader.fetchBlocks\u001b[0;34m()\u001b[0m\n",
      "\u001b[0;32m/opt/micromamba/envs/microscope_video_conversion/lib/python3.8/site-packages/_jpype.cpython-38-x86_64-linux-gnu.so\u001b[0m in \u001b[0;36mloci.poi.poifs.storage.RawDataBlockList.remove\u001b[0;34m()\u001b[0m\n",
      "\u001b[0;32m/opt/micromamba/envs/microscope_video_conversion/lib/python3.8/site-packages/_jpype.cpython-38-x86_64-linux-gnu.so\u001b[0m in \u001b[0;36mloci.poi.poifs.storage.BlockListImpl.remove\u001b[0;34m()\u001b[0m\n",
      "\u001b[0;31mException\u001b[0m: Java Exception",
      "\nThe above exception was the direct cause of the following exception:\n",
      "\u001b[0;31mjava.io.IOException\u001b[0m                       Traceback (most recent call last)",
      "\u001b[0;32m<ipython-input-10-d94410cb3c32>\u001b[0m in \u001b[0;36m<module>\u001b[0;34m\u001b[0m\n\u001b[0;32m----> 1\u001b[0;31m \u001b[0mprocess\u001b[0m\u001b[0;34m(\u001b[0m\u001b[0minput_folder\u001b[0m\u001b[0;34m,\u001b[0m \u001b[0moutput_folder\u001b[0m\u001b[0;34m,\u001b[0m \u001b[0;32mTrue\u001b[0m\u001b[0;34m,\u001b[0m \u001b[0;36m10\u001b[0m\u001b[0;34m)\u001b[0m\u001b[0;34m\u001b[0m\u001b[0;34m\u001b[0m\u001b[0m\n\u001b[0m\u001b[1;32m      2\u001b[0m \u001b[0mprint\u001b[0m\u001b[0;34m(\u001b[0m\u001b[0;34m\"All conversions finished!\"\u001b[0m\u001b[0;34m)\u001b[0m\u001b[0;34m\u001b[0m\u001b[0;34m\u001b[0m\u001b[0m\n",
      "\u001b[0;32m<ipython-input-9-0caaeb2029b4>\u001b[0m in \u001b[0;36mprocess\u001b[0;34m(folder, output, skip_if_exists, fps)\u001b[0m\n\u001b[1;32m     15\u001b[0m                     \u001b[0mprint\u001b[0m\u001b[0;34m(\u001b[0m\u001b[0;34mf\"converting {f.absolute()} to {to}\"\u001b[0m\u001b[0;34m)\u001b[0m\u001b[0;34m\u001b[0m\u001b[0;34m\u001b[0m\u001b[0m\n\u001b[1;32m     16\u001b[0m                     \u001b[0;31m#try:\u001b[0m\u001b[0;34m\u001b[0m\u001b[0;34m\u001b[0m\u001b[0;34m\u001b[0m\u001b[0m\n\u001b[0;32m---> 17\u001b[0;31m                     \u001b[0mconvert\u001b[0m\u001b[0;34m(\u001b[0m\u001b[0mf\u001b[0m\u001b[0;34m,\u001b[0m \u001b[0mto\u001b[0m\u001b[0;34m,\u001b[0m \u001b[0mfps\u001b[0m\u001b[0;34m)\u001b[0m\u001b[0;34m\u001b[0m\u001b[0;34m\u001b[0m\u001b[0m\n\u001b[0m\u001b[1;32m     18\u001b[0m                     \u001b[0;31m#except:\u001b[0m\u001b[0;34m\u001b[0m\u001b[0;34m\u001b[0m\u001b[0;34m\u001b[0m\u001b[0m\n\u001b[1;32m     19\u001b[0m                     \u001b[0;31m#    print(\"Exception occured!\")\u001b[0m\u001b[0;34m\u001b[0m\u001b[0;34m\u001b[0m\u001b[0;34m\u001b[0m\u001b[0m\n",
      "\u001b[0;32m<ipython-input-6-1c30928be01c>\u001b[0m in \u001b[0;36mconvert\u001b[0;34m(from_file, to_file, fps)\u001b[0m\n\u001b[1;32m      1\u001b[0m \u001b[0;32mdef\u001b[0m \u001b[0mconvert\u001b[0m\u001b[0;34m(\u001b[0m\u001b[0mfrom_file\u001b[0m\u001b[0;34m:\u001b[0m \u001b[0mPath\u001b[0m\u001b[0;34m,\u001b[0m \u001b[0mto_file\u001b[0m\u001b[0;34m:\u001b[0m \u001b[0mPath\u001b[0m\u001b[0;34m,\u001b[0m \u001b[0mfps\u001b[0m\u001b[0;34m:\u001b[0m \u001b[0mint\u001b[0m\u001b[0;34m)\u001b[0m\u001b[0;34m:\u001b[0m\u001b[0;34m\u001b[0m\u001b[0;34m\u001b[0m\u001b[0m\n\u001b[0;32m----> 2\u001b[0;31m     \u001b[0mworm\u001b[0m \u001b[0;34m=\u001b[0m \u001b[0mpims\u001b[0m\u001b[0;34m.\u001b[0m\u001b[0mBioformats\u001b[0m\u001b[0;34m(\u001b[0m\u001b[0mfrom_file\u001b[0m\u001b[0;34m,\u001b[0m \u001b[0mjava_memory\u001b[0m\u001b[0;34m=\u001b[0m\u001b[0;34m'1024m'\u001b[0m\u001b[0;34m)\u001b[0m\u001b[0;34m\u001b[0m\u001b[0;34m\u001b[0m\u001b[0m\n\u001b[0m\u001b[1;32m      3\u001b[0m     \u001b[0mframe\u001b[0m \u001b[0;34m=\u001b[0m \u001b[0mworm\u001b[0m\u001b[0;34m[\u001b[0m\u001b[0;36m0\u001b[0m\u001b[0;34m]\u001b[0m\u001b[0;34m\u001b[0m\u001b[0;34m\u001b[0m\u001b[0m\n\u001b[1;32m      4\u001b[0m     \u001b[0mheight\u001b[0m\u001b[0;34m,\u001b[0m \u001b[0mwidth\u001b[0m \u001b[0;34m=\u001b[0m \u001b[0mframe\u001b[0m\u001b[0;34m.\u001b[0m\u001b[0mshape\u001b[0m\u001b[0;34m\u001b[0m\u001b[0;34m\u001b[0m\u001b[0m\n\u001b[1;32m      5\u001b[0m     \u001b[0mvideo\u001b[0m \u001b[0;34m=\u001b[0m \u001b[0mcv2\u001b[0m\u001b[0;34m.\u001b[0m\u001b[0mVideoWriter\u001b[0m\u001b[0;34m(\u001b[0m\u001b[0mstr\u001b[0m\u001b[0;34m(\u001b[0m\u001b[0mto_file\u001b[0m\u001b[0;34m.\u001b[0m\u001b[0mabsolute\u001b[0m\u001b[0;34m(\u001b[0m\u001b[0;34m)\u001b[0m\u001b[0;34m)\u001b[0m\u001b[0;34m,\u001b[0m \u001b[0mcv2\u001b[0m\u001b[0;34m.\u001b[0m\u001b[0mVideoWriter_fourcc\u001b[0m\u001b[0;34m(\u001b[0m\u001b[0;34m*\u001b[0m\u001b[0;34m'mp4v'\u001b[0m\u001b[0;34m)\u001b[0m\u001b[0;34m,\u001b[0m \u001b[0mfps\u001b[0m\u001b[0;34m,\u001b[0m \u001b[0;34m(\u001b[0m\u001b[0mwidth\u001b[0m\u001b[0;34m,\u001b[0m \u001b[0mheight\u001b[0m\u001b[0;34m)\u001b[0m\u001b[0;34m,\u001b[0m \u001b[0;32mFalse\u001b[0m\u001b[0;34m)\u001b[0m\u001b[0;34m\u001b[0m\u001b[0;34m\u001b[0m\u001b[0m\n",
      "\u001b[0;32m/opt/micromamba/envs/microscope_video_conversion/lib/python3.8/site-packages/pims/bioformats.py\u001b[0m in \u001b[0;36m__init__\u001b[0;34m(self, filename, meta, java_memory, read_mode, series)\u001b[0m\n\u001b[1;32m    369\u001b[0m             \u001b[0mself\u001b[0m\u001b[0;34m.\u001b[0m\u001b[0m_metadata\u001b[0m \u001b[0;34m=\u001b[0m \u001b[0mloci\u001b[0m\u001b[0;34m.\u001b[0m\u001b[0mformats\u001b[0m\u001b[0;34m.\u001b[0m\u001b[0mMetadataTools\u001b[0m\u001b[0;34m.\u001b[0m\u001b[0mcreateOMEXMLMetadata\u001b[0m\u001b[0;34m(\u001b[0m\u001b[0;34m)\u001b[0m\u001b[0;34m\u001b[0m\u001b[0;34m\u001b[0m\u001b[0m\n\u001b[1;32m    370\u001b[0m             \u001b[0mself\u001b[0m\u001b[0;34m.\u001b[0m\u001b[0mrdr\u001b[0m\u001b[0;34m.\u001b[0m\u001b[0msetMetadataStore\u001b[0m\u001b[0;34m(\u001b[0m\u001b[0mself\u001b[0m\u001b[0;34m.\u001b[0m\u001b[0m_metadata\u001b[0m\u001b[0;34m)\u001b[0m\u001b[0;34m\u001b[0m\u001b[0;34m\u001b[0m\u001b[0m\n\u001b[0;32m--> 371\u001b[0;31m         \u001b[0mself\u001b[0m\u001b[0;34m.\u001b[0m\u001b[0mrdr\u001b[0m\u001b[0;34m.\u001b[0m\u001b[0msetId\u001b[0m\u001b[0;34m(\u001b[0m\u001b[0mself\u001b[0m\u001b[0;34m.\u001b[0m\u001b[0mfilename\u001b[0m\u001b[0;34m)\u001b[0m\u001b[0;34m\u001b[0m\u001b[0;34m\u001b[0m\u001b[0m\n\u001b[0m\u001b[1;32m    372\u001b[0m         \u001b[0;32mif\u001b[0m \u001b[0mmeta\u001b[0m\u001b[0;34m:\u001b[0m\u001b[0;34m\u001b[0m\u001b[0;34m\u001b[0m\u001b[0m\n\u001b[1;32m    373\u001b[0m             \u001b[0mself\u001b[0m\u001b[0;34m.\u001b[0m\u001b[0mmetadata\u001b[0m \u001b[0;34m=\u001b[0m \u001b[0mMetadataRetrieve\u001b[0m\u001b[0;34m(\u001b[0m\u001b[0mself\u001b[0m\u001b[0;34m.\u001b[0m\u001b[0m_metadata\u001b[0m\u001b[0;34m)\u001b[0m\u001b[0;34m\u001b[0m\u001b[0;34m\u001b[0m\u001b[0m\n",
      "\u001b[0;31mjava.io.IOException\u001b[0m: java.io.IOException: block[ 0 ] already removed"
     ]
    }
   ],
   "source": [
    "process(input_folder, output_folder, True, 10)\n",
    "print(\"All conversions finished!\")"
   ]
  },
  {
   "cell_type": "code",
   "execution_count": null,
   "id": "d109fc33",
   "metadata": {},
   "outputs": [],
   "source": []
  },
  {
   "cell_type": "code",
   "execution_count": null,
   "id": "3a79b240",
   "metadata": {},
   "outputs": [],
   "source": []
  },
  {
   "cell_type": "code",
   "execution_count": null,
   "id": "c48870b5",
   "metadata": {},
   "outputs": [],
   "source": []
  },
  {
   "cell_type": "code",
   "execution_count": null,
   "id": "03d2983d",
   "metadata": {},
   "outputs": [],
   "source": []
  },
  {
   "cell_type": "code",
   "execution_count": null,
   "id": "5378624f",
   "metadata": {},
   "outputs": [],
   "source": []
  },
  {
   "cell_type": "code",
   "execution_count": null,
   "id": "80982b67",
   "metadata": {},
   "outputs": [],
   "source": []
  },
  {
   "cell_type": "code",
   "execution_count": null,
   "id": "6e90b718",
   "metadata": {},
   "outputs": [],
   "source": []
  },
  {
   "cell_type": "code",
   "execution_count": null,
   "id": "e079eebe",
   "metadata": {},
   "outputs": [],
   "source": []
  },
  {
   "cell_type": "code",
   "execution_count": null,
   "id": "3773ee8f",
   "metadata": {},
   "outputs": [],
   "source": []
  },
  {
   "cell_type": "code",
   "execution_count": null,
   "id": "c6837a44",
   "metadata": {},
   "outputs": [],
   "source": []
  },
  {
   "cell_type": "code",
   "execution_count": null,
   "id": "1aa7e99e",
   "metadata": {},
   "outputs": [],
   "source": []
  }
 ],
 "metadata": {
  "kernelspec": {
   "display_name": "Python 3",
   "language": "python",
   "name": "python3"
  },
  "language_info": {
   "codemirror_mode": {
    "name": "ipython",
    "version": 3
   },
   "file_extension": ".py",
   "mimetype": "text/x-python",
   "name": "python",
   "nbconvert_exporter": "python",
   "pygments_lexer": "ipython3",
   "version": "3.8.8"
  }
 },
 "nbformat": 4,
 "nbformat_minor": 5
}
