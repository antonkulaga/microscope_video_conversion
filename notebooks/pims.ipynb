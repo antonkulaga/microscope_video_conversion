{
 "cells": [
  {
   "cell_type": "markdown",
   "id": "interested-relevance",
   "metadata": {},
   "source": [
    "Files conversion\n",
    "================"
   ]
  },
  {
   "cell_type": "markdown",
   "id": "olive-definition",
   "metadata": {},
   "source": [
    "Imports"
   ]
  },
  {
   "cell_type": "code",
   "execution_count": 1,
   "id": "duplicate-constant",
   "metadata": {},
   "outputs": [],
   "source": [
    "import matplotlib.pyplot as plt\n",
    "import numpy as np\n",
    "import pandas as pd\n",
    "import seaborn as sns"
   ]
  },
  {
   "cell_type": "code",
   "execution_count": 2,
   "id": "latter-rugby",
   "metadata": {},
   "outputs": [],
   "source": [
    "import pims\n",
    "from pims import *"
   ]
  },
  {
   "cell_type": "code",
   "execution_count": 3,
   "id": "close-twist",
   "metadata": {},
   "outputs": [],
   "source": [
    "import cv2\n",
    "import os"
   ]
  },
  {
   "cell_type": "code",
   "execution_count": 4,
   "id": "enabling-opportunity",
   "metadata": {},
   "outputs": [
    {
     "data": {
      "text/plain": [
       "PosixPath('/data/sources/microscope_video_conversion/notebooks')"
      ]
     },
     "execution_count": 4,
     "metadata": {},
     "output_type": "execute_result"
    }
   ],
   "source": [
    "from pathlib import *\n",
    "current_dir = Path.cwd()\n",
    "current_dir"
   ]
  },
  {
   "cell_type": "code",
   "execution_count": 5,
   "id": "interstate-tobacco",
   "metadata": {},
   "outputs": [],
   "source": [
    "#input_folder = Path(\"/\") / \"data\" / \"IOAN\" / \"INPUT\"\n",
    "#output_folder = Path(\"/\") / \"data\" / \"IOAN\" / \"OUTPUT\"\n",
    "input_folder = Path(\"/media/antonkulaga/Elements/IOAN/PP\")\n",
    "output_folder = Path(\"/data/IOAN/PP_CONVERTED\")\n",
    "\n",
    "if(not output_folder.exists()):\n",
    "    output_folder.mkdir()"
   ]
  },
  {
   "cell_type": "code",
   "execution_count": 6,
   "id": "numeric-baker",
   "metadata": {},
   "outputs": [],
   "source": [
    "def convert(from_file: Path, to_file: Path):\n",
    "    worm = pims.Bioformats(from_file, java_memory='1024m')\n",
    "    frame = worm[0]\n",
    "    height, width = frame.shape\n",
    "    fps = 12.0\n",
    "    video = cv2.VideoWriter(str(to_file.absolute()), cv2.VideoWriter_fourcc(*'mp4v'), fps, (width, height), False)    \n",
    "    for image in worm:\n",
    "        image = cv2.normalize(image, None, 0, 255, cv2.NORM_MINMAX, dtype=cv2.CV_8U)\n",
    "        video.write(image)\n",
    "    print(f\"{to_file} successfully converted!\")\n",
    "    return to_file"
   ]
  },
  {
   "cell_type": "markdown",
   "id": "failing-church",
   "metadata": {},
   "source": [
    "Processing the directory tree with conversion\n",
    "============================================="
   ]
  },
  {
   "cell_type": "code",
   "execution_count": 7,
   "id": "employed-aggregate",
   "metadata": {},
   "outputs": [],
   "source": [
    "def process(folder: Path, output: Path):\n",
    "    print(folder)\n",
    "    output.mkdir(exist_ok=True)\n",
    "    for f in folder.iterdir():\n",
    "        if f.is_dir():\n",
    "            od: Path = output / f.name\n",
    "            od.mkdir(exist_ok=True)                        \n",
    "            process(f, od)\n",
    "        else:\n",
    "            if \"zvi\" in f.name:\n",
    "                to = output / (f.stem+'.mp4')\n",
    "                print(f\"converting {f.absolute()} to {to}\")\n",
    "                convert(f, to)\n",
    "    return folder"
   ]
  },
  {
   "cell_type": "code",
   "execution_count": null,
   "id": "federal-gallery",
   "metadata": {},
   "outputs": [
    {
     "name": "stdout",
     "output_type": "stream",
     "text": [
      "/media/antonkulaga/Elements/IOAN/PP\n",
      "/media/antonkulaga/Elements/IOAN/PP/EXP1\n",
      "/media/antonkulaga/Elements/IOAN/PP/EXP1/DAY1\n",
      "/media/antonkulaga/Elements/IOAN/PP/EXP1/DAY1/ife-2\n",
      "converting /media/antonkulaga/Elements/IOAN/PP/EXP1/DAY1/ife-2/w10_150x.zvi to /data/IOAN/PP_CONVERTED/EXP1/DAY1/ife-2/w10_150x.mp4\n"
     ]
    },
    {
     "name": "stderr",
     "output_type": "stream",
     "text": [
      "/opt/miniconda3/envs/microscope_video_conversion/lib/python3.8/site-packages/pims/bioformats.py:408: UserWarning: Due to an issue with JPype 0.6.0, reading is slower. Please consider upgrading JPype to 0.6.1 or later.\n",
      "  warn('Due to an issue with JPype 0.6.0, reading is slower. '\n"
     ]
    },
    {
     "name": "stdout",
     "output_type": "stream",
     "text": [
      "/data/IOAN/PP_CONVERTED/EXP1/DAY1/ife-2/w10_150x.mp4 successfully converted!\n",
      "converting /media/antonkulaga/Elements/IOAN/PP/EXP1/DAY1/ife-2/w11_150x.zvi to /data/IOAN/PP_CONVERTED/EXP1/DAY1/ife-2/w11_150x.mp4\n"
     ]
    }
   ],
   "source": [
    "process(input_folder, output_folder)\n",
    "print(\"All conversions finished!\")"
   ]
  },
  {
   "cell_type": "code",
   "execution_count": null,
   "id": "integrated-patient",
   "metadata": {},
   "outputs": [],
   "source": []
  },
  {
   "cell_type": "code",
   "execution_count": null,
   "id": "assured-poultry",
   "metadata": {},
   "outputs": [],
   "source": []
  }
 ],
 "metadata": {
  "kernelspec": {
   "display_name": "Python 3",
   "language": "python",
   "name": "python3"
  },
  "language_info": {
   "codemirror_mode": {
    "name": "ipython",
    "version": 3
   },
   "file_extension": ".py",
   "mimetype": "text/x-python",
   "name": "python",
   "nbconvert_exporter": "python",
   "pygments_lexer": "ipython3",
   "version": "3.8.8"
  }
 },
 "nbformat": 4,
 "nbformat_minor": 5
}
