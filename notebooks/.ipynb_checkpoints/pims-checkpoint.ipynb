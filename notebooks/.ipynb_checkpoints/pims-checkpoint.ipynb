{
 "cells": [
  {
   "cell_type": "markdown",
   "id": "guided-invalid",
   "metadata": {},
   "source": [
    "Files conversion\n",
    "================"
   ]
  },
  {
   "cell_type": "markdown",
   "id": "downtown-playlist",
   "metadata": {},
   "source": [
    "Imports"
   ]
  },
  {
   "cell_type": "code",
   "execution_count": 4,
   "id": "satellite-planet",
   "metadata": {},
   "outputs": [],
   "source": [
    "import matplotlib.pyplot as plt\n",
    "import numpy as np"
   ]
  },
  {
   "cell_type": "code",
   "execution_count": 5,
   "id": "trained-finger",
   "metadata": {},
   "outputs": [],
   "source": [
    "import pims\n",
    "from pims import *"
   ]
  },
  {
   "cell_type": "code",
   "execution_count": 6,
   "id": "lovely-starter",
   "metadata": {},
   "outputs": [],
   "source": [
    "import cv2\n",
    "import os"
   ]
  },
  {
   "cell_type": "code",
   "execution_count": 7,
   "id": "minus-indication",
   "metadata": {},
   "outputs": [
    {
     "data": {
      "text/plain": [
       "PosixPath('/home/ioan/Documents/microscope_video_conversion/notebooks')"
      ]
     },
     "execution_count": 7,
     "metadata": {},
     "output_type": "execute_result"
    }
   ],
   "source": [
    "from pathlib import *\n",
    "current_dir = Path.cwd()\n",
    "current_dir"
   ]
  },
  {
   "cell_type": "code",
   "execution_count": 16,
   "id": "popular-germany",
   "metadata": {},
   "outputs": [],
   "source": [
    "#input_folder = Path(\"/\") / \"data\" / \"IOAN\" / \"INPUT\"\n",
    "#output_folder = Path(\"/\") / \"data\" / \"IOAN\" / \"OUTPUT\"\n",
    "input_folder = Path('/media/ioan/Elements/IOAN/PP/EXP1/DAY1/N2/different lengths/5min')\n",
    "output_folder = Path('/media/ioan/Elements/IOAN/PP_CONVERTED/different lengths/5min')\n",
    "\n",
    "if(not output_folder.exists()):\n",
    "    output_folder.mkdir()"
   ]
  },
  {
   "cell_type": "code",
   "execution_count": 12,
   "id": "powered-scratch",
   "metadata": {},
   "outputs": [],
   "source": [
    "def convert(from_file: Path, to_file: Path):\n",
    "    worm = pims.Bioformats(from_file, java_memory='1024m')\n",
    "    frame = worm[0]\n",
    "    height, width = frame.shape\n",
    "    fps = 5\n",
    "    video = cv2.VideoWriter(str(to_file.absolute()), cv2.VideoWriter_fourcc(*'mp4v'), fps, (width, height), False)    \n",
    "    for image in worm:\n",
    "        image = cv2.normalize(image, None, 0, 255, cv2.NORM_MINMAX, dtype=cv2.CV_8U)\n",
    "        video.write(image)\n",
    "    print(f\"{to_file} successfully converted!\")\n",
    "    return to_file"
   ]
  },
  {
   "cell_type": "markdown",
   "id": "female-shock",
   "metadata": {},
   "source": [
    "Processing the directory tree with conversion\n",
    "============================================="
   ]
  },
  {
   "cell_type": "code",
   "execution_count": 15,
   "id": "signal-marker",
   "metadata": {},
   "outputs": [],
   "source": [
    "def process(folder: Path, output: Path, skip_if_exists: bool):\n",
    "    print(folder)\n",
    "    output.mkdir(exist_ok=True)\n",
    "    for f in folder.iterdir():\n",
    "        if f.is_dir():\n",
    "            od: Path = output / f.name\n",
    "            od.mkdir(exist_ok=True)                        \n",
    "            process(f, od, skip_if_exists)\n",
    "        else:\n",
    "            if \"zvi\" in f.name:\n",
    "                to = output / (f.stem+'.mp4')\n",
    "                if to.exists() and skip_if_exists:\n",
    "                    print(f\"{str(f.absolute())} already exists, skipping...\")\n",
    "                else:                    \n",
    "                    print(f\"converting {f.absolute()} to {to}\")\n",
    "                    convert(f, to)\n",
    "    return folder"
   ]
  },
  {
   "cell_type": "code",
   "execution_count": 17,
   "id": "informed-holiday",
   "metadata": {},
   "outputs": [
    {
     "name": "stdout",
     "output_type": "stream",
     "text": [
      "/media/ioan/Elements/IOAN/PP/EXP1/DAY1/N2/different lengths/5min\n",
      "converting /media/ioan/Elements/IOAN/PP/EXP1/DAY1/N2/different lengths/5min/worm1_capture1b_150x_br.zvi to /media/ioan/Elements/IOAN/PP_CONVERTED/different lengths/5min/worm1_capture1b_150x_br.mp4\n"
     ]
    },
    {
     "ename": "ImportError",
     "evalue": "This reader requires JPype.",
     "output_type": "error",
     "traceback": [
      "\u001b[0;31m---------------------------------------------------------------------------\u001b[0m",
      "\u001b[0;31mImportError\u001b[0m                               Traceback (most recent call last)",
      "\u001b[0;32m<ipython-input-17-2d72b92122ed>\u001b[0m in \u001b[0;36m<module>\u001b[0;34m\u001b[0m\n\u001b[0;32m----> 1\u001b[0;31m \u001b[0mprocess\u001b[0m\u001b[0;34m(\u001b[0m\u001b[0minput_folder\u001b[0m\u001b[0;34m,\u001b[0m \u001b[0moutput_folder\u001b[0m\u001b[0;34m,\u001b[0m \u001b[0;32mTrue\u001b[0m\u001b[0;34m)\u001b[0m\u001b[0;34m\u001b[0m\u001b[0;34m\u001b[0m\u001b[0m\n\u001b[0m\u001b[1;32m      2\u001b[0m \u001b[0mprint\u001b[0m\u001b[0;34m(\u001b[0m\u001b[0;34m\"All conversions finished!\"\u001b[0m\u001b[0;34m)\u001b[0m\u001b[0;34m\u001b[0m\u001b[0;34m\u001b[0m\u001b[0m\n",
      "\u001b[0;32m<ipython-input-15-e569a59f5256>\u001b[0m in \u001b[0;36mprocess\u001b[0;34m(folder, output, skip_if_exists)\u001b[0m\n\u001b[1;32m     14\u001b[0m                 \u001b[0;32melse\u001b[0m\u001b[0;34m:\u001b[0m\u001b[0;34m\u001b[0m\u001b[0;34m\u001b[0m\u001b[0m\n\u001b[1;32m     15\u001b[0m                     \u001b[0mprint\u001b[0m\u001b[0;34m(\u001b[0m\u001b[0;34mf\"converting {f.absolute()} to {to}\"\u001b[0m\u001b[0;34m)\u001b[0m\u001b[0;34m\u001b[0m\u001b[0;34m\u001b[0m\u001b[0m\n\u001b[0;32m---> 16\u001b[0;31m                     \u001b[0mconvert\u001b[0m\u001b[0;34m(\u001b[0m\u001b[0mf\u001b[0m\u001b[0;34m,\u001b[0m \u001b[0mto\u001b[0m\u001b[0;34m)\u001b[0m\u001b[0;34m\u001b[0m\u001b[0;34m\u001b[0m\u001b[0m\n\u001b[0m\u001b[1;32m     17\u001b[0m     \u001b[0;32mreturn\u001b[0m \u001b[0mfolder\u001b[0m\u001b[0;34m\u001b[0m\u001b[0;34m\u001b[0m\u001b[0m\n",
      "\u001b[0;32m<ipython-input-12-0b16c8c2041f>\u001b[0m in \u001b[0;36mconvert\u001b[0;34m(from_file, to_file)\u001b[0m\n\u001b[1;32m      1\u001b[0m \u001b[0;32mdef\u001b[0m \u001b[0mconvert\u001b[0m\u001b[0;34m(\u001b[0m\u001b[0mfrom_file\u001b[0m\u001b[0;34m:\u001b[0m \u001b[0mPath\u001b[0m\u001b[0;34m,\u001b[0m \u001b[0mto_file\u001b[0m\u001b[0;34m:\u001b[0m \u001b[0mPath\u001b[0m\u001b[0;34m)\u001b[0m\u001b[0;34m:\u001b[0m\u001b[0;34m\u001b[0m\u001b[0;34m\u001b[0m\u001b[0m\n\u001b[0;32m----> 2\u001b[0;31m     \u001b[0mworm\u001b[0m \u001b[0;34m=\u001b[0m \u001b[0mpims\u001b[0m\u001b[0;34m.\u001b[0m\u001b[0mBioformats\u001b[0m\u001b[0;34m(\u001b[0m\u001b[0mfrom_file\u001b[0m\u001b[0;34m,\u001b[0m \u001b[0mjava_memory\u001b[0m\u001b[0;34m=\u001b[0m\u001b[0;34m'1024m'\u001b[0m\u001b[0;34m)\u001b[0m\u001b[0;34m\u001b[0m\u001b[0;34m\u001b[0m\u001b[0m\n\u001b[0m\u001b[1;32m      3\u001b[0m     \u001b[0mframe\u001b[0m \u001b[0;34m=\u001b[0m \u001b[0mworm\u001b[0m\u001b[0;34m[\u001b[0m\u001b[0;36m0\u001b[0m\u001b[0;34m]\u001b[0m\u001b[0;34m\u001b[0m\u001b[0;34m\u001b[0m\u001b[0m\n\u001b[1;32m      4\u001b[0m     \u001b[0mheight\u001b[0m\u001b[0;34m,\u001b[0m \u001b[0mwidth\u001b[0m \u001b[0;34m=\u001b[0m \u001b[0mframe\u001b[0m\u001b[0;34m.\u001b[0m\u001b[0mshape\u001b[0m\u001b[0;34m\u001b[0m\u001b[0;34m\u001b[0m\u001b[0m\n\u001b[1;32m      5\u001b[0m     \u001b[0mfps\u001b[0m \u001b[0;34m=\u001b[0m \u001b[0;36m5\u001b[0m\u001b[0;34m\u001b[0m\u001b[0;34m\u001b[0m\u001b[0m\n",
      "\u001b[0;32m/data/miniconda3/envs/microscope_video_conversion/lib/python3.8/site-packages/pims/api.py\u001b[0m in \u001b[0;36mraiser\u001b[0;34m(*args, **kwargs)\u001b[0m\n\u001b[1;32m     26\u001b[0m \u001b[0;32mdef\u001b[0m \u001b[0mnot_available\u001b[0m\u001b[0;34m(\u001b[0m\u001b[0mrequirement\u001b[0m\u001b[0;34m)\u001b[0m\u001b[0;34m:\u001b[0m\u001b[0;34m\u001b[0m\u001b[0;34m\u001b[0m\u001b[0m\n\u001b[1;32m     27\u001b[0m     \u001b[0;32mdef\u001b[0m \u001b[0mraiser\u001b[0m\u001b[0;34m(\u001b[0m\u001b[0;34m*\u001b[0m\u001b[0margs\u001b[0m\u001b[0;34m,\u001b[0m \u001b[0;34m**\u001b[0m\u001b[0mkwargs\u001b[0m\u001b[0;34m)\u001b[0m\u001b[0;34m:\u001b[0m\u001b[0;34m\u001b[0m\u001b[0;34m\u001b[0m\u001b[0m\n\u001b[0;32m---> 28\u001b[0;31m         raise ImportError(\n\u001b[0m\u001b[1;32m     29\u001b[0m             \"This reader requires {0}.\".format(requirement))\n\u001b[1;32m     30\u001b[0m     \u001b[0;32mreturn\u001b[0m \u001b[0mraiser\u001b[0m\u001b[0;34m\u001b[0m\u001b[0;34m\u001b[0m\u001b[0m\n",
      "\u001b[0;31mImportError\u001b[0m: This reader requires JPype."
     ]
    }
   ],
   "source": [
    "process(input_folder, output_folder, True)\n",
    "print(\"All conversions finished!\")"
   ]
  },
  {
   "cell_type": "code",
   "execution_count": null,
   "id": "innocent-microphone",
   "metadata": {},
   "outputs": [],
   "source": []
  }
 ],
 "metadata": {
  "kernelspec": {
   "display_name": "Python 3",
   "language": "python",
   "name": "python3"
  },
  "language_info": {
   "codemirror_mode": {
    "name": "ipython",
    "version": 3
   },
   "file_extension": ".py",
   "mimetype": "text/x-python",
   "name": "python",
   "nbconvert_exporter": "python",
   "pygments_lexer": "ipython3",
   "version": "3.8.8"
  }
 },
 "nbformat": 4,
 "nbformat_minor": 5
}
