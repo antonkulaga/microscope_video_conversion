{
 "cells": [
  {
   "cell_type": "markdown",
   "id": "c6d46eeb",
   "metadata": {},
   "source": [
    "Files conversion\n",
    "================"
   ]
  },
  {
   "cell_type": "markdown",
   "id": "01bc55a7",
   "metadata": {},
   "source": [
    "Imports"
   ]
  },
  {
   "cell_type": "code",
   "execution_count": 1,
   "id": "6b458b72",
   "metadata": {},
   "outputs": [],
   "source": [
    "import matplotlib.pyplot as plt\n",
    "import numpy as np"
   ]
  },
  {
   "cell_type": "code",
   "execution_count": 2,
   "id": "80f8b402",
   "metadata": {},
   "outputs": [],
   "source": [
    "import pims\n",
    "from pims import *"
   ]
  },
  {
   "cell_type": "code",
   "execution_count": 3,
   "id": "b9459490",
   "metadata": {},
   "outputs": [],
   "source": [
    "import cv2\n",
    "import os"
   ]
  },
  {
   "cell_type": "code",
   "execution_count": 4,
   "id": "328f44da",
   "metadata": {
    "tags": []
   },
   "outputs": [
    {
     "data": {
      "text/plain": [
       "PosixPath('/data/sources/microscope_video_conversion/notebooks')"
      ]
     },
     "execution_count": 4,
     "metadata": {},
     "output_type": "execute_result"
    }
   ],
   "source": [
    "from pathlib import *\n",
    "current_dir = Path.cwd()\n",
    "current_dir"
   ]
  },
  {
   "cell_type": "code",
   "execution_count": 5,
   "id": "fcd9db26",
   "metadata": {},
   "outputs": [],
   "source": [
    "input_folder = Path(\"/\") / \"data\" / \"IOAN\" / \"INPUT\"\n",
    "output_folder = Path(\"/\") / \"data\" / \"IOAN\" / \"OUTPUT\"\n",
    "##input_folder = Path('/media/ioan/Elements/IOAN/PP/exp2/day5/odr-3_ife-2')\n",
    "##output_folder = Path('/media/ioan/Elements/IOAN/PP_CONVERTED/exp2/day5/odr-3_ife-2')\n",
    "\n",
    "if(not output_folder.exists()):\n",
    "    output_folder.mkdir()"
   ]
  },
  {
   "cell_type": "code",
   "execution_count": 6,
   "id": "405934e8",
   "metadata": {},
   "outputs": [],
   "source": [
    "def convert(from_file: Path, to_file: Path, fps: int):\n",
    "    worm = pims.Bioformats(from_file, java_memory='1024m')\n",
    "    frame = worm[0]\n",
    "    height, width = frame.shape\n",
    "    video = cv2.VideoWriter(str(to_file.absolute()), cv2.VideoWriter_fourcc(*'mp4v'), fps, (width, height), False)    \n",
    "    for image in worm:\n",
    "        image = cv2.normalize(image, None, 0, 255, cv2.NORM_MINMAX, dtype=cv2.CV_8U)\n",
    "        video.write(image)\n",
    "    print(f\"{to_file} successfully converted!\")\n",
    "    return to_file"
   ]
  },
  {
   "cell_type": "markdown",
   "id": "97f8203d",
   "metadata": {},
   "source": [
    "Processing the directory tree with conversion\n",
    "============================================="
   ]
  },
  {
   "cell_type": "code",
   "execution_count": 7,
   "id": "3b89f49c",
   "metadata": {},
   "outputs": [],
   "source": [
    "def process(folder: Path, output: Path, skip_if_exists: bool, fps: int = 10):\n",
    "    print(folder)\n",
    "    output.mkdir(exist_ok=True)\n",
    "    for f in folder.iterdir():\n",
    "        if f.is_dir():\n",
    "            od: Path = output / f.name\n",
    "            od.mkdir(exist_ok=True)                        \n",
    "            process(f, od, skip_if_exists)\n",
    "        else:\n",
    "            if \"zvi\" in f.name:\n",
    "                to = output / (f.stem+'.mp4')\n",
    "                if to.exists() and skip_if_exists:\n",
    "                    print(f\"{str(f.absolute())} already exists, skipping...\")\n",
    "                else:                    \n",
    "                    print(f\"converting {f.absolute()} to {to}\")\n",
    "                    #try:\n",
    "                    convert(f, to, fps)\n",
    "                    #except:\n",
    "                    #    print(\"Exception occured!\")                        \n",
    "                    #    continue\n",
    "    return folder"
   ]
  },
  {
   "cell_type": "code",
   "execution_count": 8,
   "id": "70fa91ca",
   "metadata": {
    "tags": []
   },
   "outputs": [
    {
     "name": "stdout",
     "output_type": "stream",
     "text": [
      "/data/IOAN/INPUT\n",
      "converting /data/IOAN/INPUT/w3.zvi to /data/IOAN/OUTPUT/w3.mp4\n",
      "Exception occured!\n",
      "converting /data/IOAN/INPUT/w2.zvi to /data/IOAN/OUTPUT/w2.mp4\n",
      "Exception occured!\n",
      "All conversions finished!\n"
     ]
    }
   ],
   "source": [
    "process(input_folder, output_folder, True, 10)\n",
    "print(\"All conversions finished!\")"
   ]
  },
  {
   "cell_type": "code",
   "execution_count": null,
   "id": "f33ab8de",
   "metadata": {},
   "outputs": [],
   "source": []
  },
  {
   "cell_type": "code",
   "execution_count": null,
   "id": "083e4373",
   "metadata": {},
   "outputs": [],
   "source": []
  },
  {
   "cell_type": "code",
   "execution_count": null,
   "id": "0528f6ec",
   "metadata": {},
   "outputs": [],
   "source": []
  },
  {
   "cell_type": "code",
   "execution_count": null,
   "id": "c2d1d9f5",
   "metadata": {},
   "outputs": [],
   "source": []
  },
  {
   "cell_type": "code",
   "execution_count": null,
   "id": "b769c12f",
   "metadata": {},
   "outputs": [],
   "source": []
  },
  {
   "cell_type": "code",
   "execution_count": null,
   "id": "6bf46fe6",
   "metadata": {},
   "outputs": [],
   "source": []
  },
  {
   "cell_type": "code",
   "execution_count": null,
   "id": "0874ed18",
   "metadata": {},
   "outputs": [],
   "source": []
  },
  {
   "cell_type": "code",
   "execution_count": null,
   "id": "feb15f86",
   "metadata": {},
   "outputs": [],
   "source": []
  },
  {
   "cell_type": "code",
   "execution_count": null,
   "id": "582cfb50",
   "metadata": {},
   "outputs": [],
   "source": []
  },
  {
   "cell_type": "code",
   "execution_count": null,
   "id": "388c5bee",
   "metadata": {},
   "outputs": [],
   "source": []
  },
  {
   "cell_type": "code",
   "execution_count": null,
   "id": "ddcecb9c",
   "metadata": {},
   "outputs": [],
   "source": []
  }
 ],
 "metadata": {
  "kernelspec": {
   "display_name": "Python 3",
   "language": "python",
   "name": "python3"
  },
  "language_info": {
   "codemirror_mode": {
    "name": "ipython",
    "version": 3
   },
   "file_extension": ".py",
   "mimetype": "text/x-python",
   "name": "python",
   "nbconvert_exporter": "python",
   "pygments_lexer": "ipython3",
   "version": "3.8.8"
  }
 },
 "nbformat": 4,
 "nbformat_minor": 5
}
